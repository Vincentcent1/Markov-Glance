{
 "cells": [
  {
   "cell_type": "code",
   "execution_count": 28,
   "metadata": {},
   "outputs": [],
   "source": [
    "import numpy as np\n",
    "import pandas as pd\n",
    "from sklearn import preprocessing"
   ]
  },
  {
   "cell_type": "code",
   "execution_count": 21,
   "metadata": {},
   "outputs": [],
   "source": [
    "video_file = '../Processed_data/baseline_video.xlsx'\n",
    "glance_file = '../Processed_data/baseline_eyeglance.xlsx'\n",
    "video_raw_df = pd.read_excel(video_file,index_col=0)\n",
    "glance_raw_df = pd.read_excel(glance_file,index_col=0)\n"
   ]
  },
  {
   "cell_type": "code",
   "execution_count": null,
   "metadata": {},
   "outputs": [],
   "source": []
  },
  {
   "cell_type": "code",
   "execution_count": 30,
   "metadata": {},
   "outputs": [
    {
     "data": {
      "text/plain": [
       "forward               8839\n",
       "Rearview mirror       1382\n",
       "left mirror            831\n",
       "right forward          761\n",
       "left window            712\n",
       "Interior object        642\n",
       "left forward           489\n",
       "center stack           423\n",
       "right window           350\n",
       "right mirror           196\n",
       "No Video               158\n",
       "Cell phone             141\n",
       "Instrument cluster     139\n",
       "Passenger              132\n",
       "Eyes Closed            110\n",
       "Name: glanceLocation, dtype: int64"
      ]
     },
     "execution_count": 30,
     "metadata": {},
     "output_type": "execute_result"
    }
   ],
   "source": [
    "required_glance_df = glance_raw_df[['id','glanceLocation']]\n",
    "le = preprocessing.LabelEncoder()\n",
    "required_glance_df['glanceLocation'].value_counts()\n",
    "#required_glance_df"
   ]
  },
  {
   "cell_type": "code",
   "execution_count": null,
   "metadata": {},
   "outputs": [],
   "source": []
  }
 ],
 "metadata": {
  "kernelspec": {
   "display_name": "Python 3",
   "language": "python",
   "name": "python3"
  },
  "language_info": {
   "codemirror_mode": {
    "name": "ipython",
    "version": 3
   },
   "file_extension": ".py",
   "mimetype": "text/x-python",
   "name": "python",
   "nbconvert_exporter": "python",
   "pygments_lexer": "ipython3",
   "version": "3.6.5"
  }
 },
 "nbformat": 4,
 "nbformat_minor": 2
}
