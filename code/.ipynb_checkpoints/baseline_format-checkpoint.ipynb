{
 "cells": [
  {
   "cell_type": "code",
   "execution_count": null,
   "metadata": {
    "collapsed": true
   },
   "outputs": [],
   "source": [
    "import numpy as np\n",
    "import pandas as pd\n",
    "import json\n",
    "from sklearn import preprocessing"
   ]
  },
  {
   "cell_type": "code",
   "execution_count": null,
   "metadata": {
    "collapsed": true
   },
   "outputs": [],
   "source": [
    "video_file = '../Processed_data/baseline_video.xlsx'\n",
    "glance_file = '../Processed_data/baseline_eyeglance.xlsx'\n",
    "video_raw_df = pd.read_excel(video_file,index_col=0)\n",
    "glance_raw_df = pd.read_excel(glance_file,index_col=0)\n"
   ]
  },
  {
   "cell_type": "code",
   "execution_count": null,
   "metadata": {
    "collapsed": false
   },
   "outputs": [],
   "source": [
    "#glance file\n",
    "#formats\n",
    "glance_processed_df = glance_raw_df\n",
    "glance_processed_df.loc[glance_processed_df.glanceLocation == 'left mirror', 'glanceLocation'] = 'left'\n",
    "glance_processed_df.loc[glance_processed_df.glanceLocation == 'left window', 'glanceLocation'] = 'left'\n",
    "glance_processed_df.loc[glance_processed_df.glanceLocation == 'left forward', 'glanceLocation'] = 'left'\n",
    "glance_processed_df.loc[glance_processed_df.glanceLocation == 'right mirror', 'glanceLocation'] = 'right'\n",
    "glance_processed_df.loc[glance_processed_df.glanceLocation == 'right window', 'glanceLocation'] = 'right'\n",
    "glance_processed_df.loc[glance_processed_df.glanceLocation == 'right forward', 'glanceLocation'] = 'right'\n",
    "glance_processed_df.loc[glance_processed_df.glanceLocation == 'Passenger', 'glanceLocation'] = 'Others'\n",
    "glance_processed_df.loc[glance_processed_df.glanceLocation == 'Cell phone', 'glanceLocation'] = 'Others'\n",
    "glance_processed_df.loc[glance_processed_df.glanceLocation == 'No Video', 'glanceLocation'] = 'Others'\n",
    "#print(glance_processed_df['glanceLocation'].value_counts())\n",
    "print(glance_processed_df)\n",
    "#labelencoder\n",
    "le = preprocessing.LabelEncoder()\n",
    "le.fit(glance_processed_df['glanceLocation'])\n",
    "list(le.classes_) #['Eyes Closed', 'Instrument cluster', 'Interior object', 'Others', 'Rearview mirror', 'center stack', 'forward', 'left', 'right']\n",
    "glance_processed_df['encoded'] = le.transform(glance_processed_df['glanceLocation'])\n",
    "\n",
    "#sequence\n",
    "id_list = []\n",
    "sequence_list = []\n",
    "temp_sequence_list = []\n",
    "for i in range(len(glance_processed_df['id'])):\n",
    "    if glance_processed_df['id'][i] in id_list:\n",
    "        temp_sequence_list = temp_sequence_list+[(glance_processed_df['encoded'][i])] * glance_processed_df['glanceDuration'][i]\n",
    "    else:\n",
    "        sequence_list.append(temp_sequence_list)\n",
    "        id_list.append(glance_processed_df['id'][i])\n",
    "        temp_sequence_list = [(glance_processed_df['encoded'][i])] * glance_processed_df['glanceDuration'][i]\n",
    "        \n",
    "sequence_list = sequence_list[1:]\n",
    "sequence_list.append(temp_sequence_list)\n",
    "\n",
    "output_df = pd.DataFrame(pd.Series(id_list))\n",
    "output_df.columns = ['id']\n",
    "output_df['glance_sequence'] = pd.Series(sequence_list)\n",
    "output_df"
   ]
  },
  {
   "cell_type": "code",
   "execution_count": null,
   "metadata": {
    "collapsed": false
   },
   "outputs": [],
   "source": [
    "video_raw_df['relationToJunction'].value_counts()\n",
    "video_raw_df_f = video_raw_df.loc[video_raw_df['id'].isin(output_df['id'])]\n",
    "output_df['proximity_to_an_intersection'] = video_raw_df_f['relationToJunction'].map({'Non-junction':0,\n",
    "                                                                                      'Intersection':1,\n",
    "                                                                                      'Intersection-related':1,\n",
    "                                                                                      'Parking lot':1,\n",
    "                                                                                      'Entrance/exit ramp':1,\n",
    "                                                                                      'Driveway, alley access, etc.':1,\n",
    "                                                                                      'Interchange area':1,\n",
    "                                                                                      'Other':1}).reset_index(drop=True)\n",
    "output_df['lighting'] = video_raw_df_f['lighting'].map({'Daylight':0,'Darkness, lighted':1,\n",
    "                                                        'Darkness, not lighted':2, 'Dusk':3, 'Dawn':3}).reset_index(drop=True)\n",
    "output_df['trafficControl'] = video_raw_df_f['trafficControl'].map({'No traffic control':0, 'Traffic signal':1,\n",
    "                                                                    'Traffic lanes marked':1, 'Stop sign':1,\n",
    "                                                                    'Other':1, 'Yield sign':1, 'One-way road or street':1,\n",
    "                                                                    'Slow or warning sign':1, \n",
    "                                                                    'Officer or watchman':1}).reset_index(drop=True)\n",
    "output_df['locality'] = video_raw_df_f['locality'].map({'Business/industrial':0, 'Open Country':1,\n",
    "                                                        'Interstate':2, 'Residential':3, 'Other':4,\n",
    "                                                        'Construction Zone':4, 'School':4, 'Church':4, \n",
    "                                                        'Playground':4}).reset_index(drop=True)\n",
    "output_df['trafficDensity'] = video_raw_df_f['trafficDensity'].map({'Level-of-service A: Free flow':0,\n",
    "                                                                    'Level-of-service B: Flow with some restrictions':1,\n",
    "                                                                    'Level-of-service C: Stable flow, maneuverability and speed are more restricted':1,\n",
    "                                                                    'Level-of-service D: Unstable flow, temporary restrictions, substantially slow driver':2,\n",
    "                                                                    'Level-of-service E: Flow is unstable, vehicles are unable to pass, temporary stoppages, etc.':2,\n",
    "                                                                    'Level-of-service F: Forced traffic flow condition with low speeds and traffic volumes that are below capacity':2}).reset_index(drop=True)\n",
    "output_df['surfaceCondition'] = video_raw_df_f['surfaceCondition'].map({'Dry':0, 'Wet':1, 'Snowy':2, 'Other':2, \n",
    "                                                                        'Icy':2, 'Muddy':2}).reset_index(drop=True)\n",
    "output_df['weather'] = video_raw_df_f['weather'].map({'Clear':0, 'Raining':1, 'Cloudy':2, 'Snowing':3, 'Fog':3, \n",
    "                                                      'Sleeting':3, 'Mist':3, 'Other':3}).reset_index(drop=True)\n",
    "output_df['alignment'] = video_raw_df_f['alignment'].map({'Straight level':0, 'Curve level':1, 'Straight grade':0,\n",
    "                                                          'Curve grade':1, 'Straight hillcrest':0}).reset_index(drop=True)\n",
    "output_df['travelLanes'] = video_raw_df_f['travelLanes'].map({'1':0,'2':0,'3':1,'4':1,'5':1,'6':1,'7':1}).reset_index(drop=True)\n",
    "output_df['trafficDivider'] = video_raw_df_f['trafficFlow'].map({r'Divided (median strip or barrier)':1,'Not Divided':0,\n",
    "                                                                 'One-way traffic':0, 'No Lanes':0}).reset_index(drop=True)\n",
    "output_df['seatBelt'] = video_raw_df_f['driverSeatbeltUse'].map({r'Lap/shoulder belt':1, 'None used':0,\n",
    "                                                                 'Unknown if used':2, 'Lap only':1, 'Shoulder only':1}).reset_index(drop=True)\n",
    "output_df['age'] = video_raw_df_f['subjectAge'].replace([str(i) for i in list(range(24))],0).reset_index(drop=True)\n",
    "output_df['age'] = output_df['age'].replace([str(i) for i in list(range(24,41))],1).reset_index(drop=True)\n",
    "output_df['age'] = output_df['age'].replace([str(i) for i in list(range(41,200))],2).reset_index(drop=True)\n",
    "output_df['age'] = output_df['age'].replace('.',3).reset_index(drop=True)\n",
    "\n",
    "output_df['gender'] = video_raw_df_f['subjectGender'].map({'Male':0,'Female':1,' ':2}).reset_index(drop=True)\n",
    "############\n",
    "output_df['behavior1'] = video_raw_df_f['driverBehavior1'].map({'None':0, 'Following too closely':1,'Failed to signal, or improper signal':2,\n",
    "                                                                            'Exceeded speed limit':3, 'Exceeded safe speed but not speed limit':4, r'Stop sign violation, \"rolling stop\"':4,\n",
    "                                                                            'Other':4, 'Stop sign violation, intentionally ran stop sign at speed':4, 'Improper turn, other':4,\n",
    "                                                                            'Improper turn, other':4, 'Cutting in, too close behind vehicle':4, 'Sudden or improper braking':4,\n",
    "                                                                            'Improper turn, wide right turn':4,'Apparent unfamiliarity with roadway':4, 'Avoiding pedestrian':4,\n",
    "                                                                            'Avoiding other vehicle':4,'Passing on right':4,'Reckless driving':4,'Improper turn, cut corner on left':4,\n",
    "                                                                            'Illegal passing':4,'Other improper or unsafe passing':4, 'Stop sign violation, apparently did not see stop sign':4,\n",
    "                                                                            'Driving slowly in relation to other traffic: not below speed limit':4, 'Wrong side of road, not overtaking':4, \n",
    "                                                                            'Making turn from wrong lane':4, 'Signal violation, tried to beat signal change':4}).reset_index(drop=True)\n",
    "output_df['behavior2'] = video_raw_df_f['driverBehavior2'].map({'None':0,r'Failed to signal, or improper signal':2,'Following too closely':1,'Other':4,\n",
    "                                                                             'Exceeded safe speed but not speed limit':4,'Exceeded speed limit':3,'Passing on right':4,\n",
    "                                                                             'Improper turn, other':4,'Driving in other vehicles blind zone':4,'Cutting in, too close behind vehicle':4,\n",
    "                                                                             'Cutting in, too close in front of other vehicle':4,'Sudden or improper braking':4,'Avoiding pedestrian':4,\n",
    "                                                                             'Driving slowly: below speed limit':4,'Reckless driving':4,'Avoiding other vehicle':4,\n",
    "                                                                             'Improper turn, cut corner on left':4}).reset_index(drop=True) \n",
    "output_df['behavior3'] = video_raw_df_f['driverBehavior3'].map({'None':0,'Following too closely':1,'Other':4,\n",
    "                                                                            'Cutting in, too close in front of other vehicle':4,'Cutting in, too close behind vehicle':4}).reset_index(drop=True)\n",
    "output_df['distraction1'] = video_raw_df_f['distraction1'].map({'Not Distracted':0,'Inattention to the Forward Roadway - Center mirror':5,\n",
    "                                                                                'Passenger in adjacent seat':1,'Inattention to the Forward Roadway - Left window':5,\n",
    "                                                                                'Inattention to the Forward Roadway - Left mirror':5,'Talking/listening on cell phone':2,\n",
    "                                                                                'Talking/singing':2,'Other external distraction':4,'Fatigue':6,'Adjusting radio':3,\n",
    "                                                                                'Inattention to the Forward Roadway - Right window':5,'Inattention to the Forward Roadway - Right mirror':5,\n",
    "                                                                                'Animal/Object in Vehicle-- Other':4,'Eating without utensils':4,'Smoking cigar/cigarette':4,'Other personal hygiene':4,\n",
    "                                                                                'Adjusting other devices integral to vehicle':4,'Reaching for object (not cell phone)':4,'Biting nails/cuticles':4,'Drinking from an open container':4,\n",
    "                                                                                'Dialing hand-held cell phone':4,'Cell phone - Other':4,'Passenger in rear seat':4,'Looking at an object':4,'Drinking with lid, no straw':4,'Reading':4,\n",
    "                                                                                'Combing/brushing/fixing hair':4,'Applying make-up':4,'Drinking with lid and straw':4,'Adjusting climate control':4,'Child in rear seat':4,'Dancing':4,\n",
    "                                                                                'Brushing/flossing teeth':4,'Eating with utensils':4,'Pet in vehicle':4,'Looking at pedestrian':4,'Removing/inserting contact lenses':4,'Inserting/retrieving CD':4,\n",
    "                                                                                'Locating/reaching/answering cell phone':4,'Removing/adjusting jewelry':4,'Lighting cigar/cigarette':4,'PDA - Other':4,'Cognitive - Other':4,'Lost in thought':4,\n",
    "                                                                                'Reaching for cigar/cigarette':4,'Operating PDA':4,'Moving object in vehicle':4,'Dialing hands-free cell phone using voice activated software':4,\n",
    "                                                                                'Dialing hand-held cell phone using quick keys':4,'No analyzed data':4}).reset_index(drop=True)\n",
    "output_df['distraction2'] = video_raw_df_f['distraction2'].map({'Not Distracted':0,'Inattention to the Forward Roadway - Center mirror':5,'Inattention to the Forward Roadway - Left window':5,\n",
    "                                                                                'Passenger in adjacent seat':1,'Inattention to the Forward Roadway - Left mirror':5,'Inattention to the Forward Roadway - Right window':5,\n",
    "                                                                                'Other external distraction':4,'Talking/singing':2,'Adjusting radio':3,'Animal/Object in Vehicle-- Other':4,\n",
    "                                                                                'Inattention to the Forward Roadway - Right mirror':5,'Talking/listening on cell phone':2,'Fatigue':6,'Smoking cigar/cigarette':4,\n",
    "                                                                                'Adjusting other devices integral to vehicle':4,'Other personal hygiene':4,'Reaching for object (not cell phone)':4,\n",
    "                                                                                'Eating without utensils':4,'Passenger in rear seat':4,'Cell phone - Other':4,'Dialing hand-held cell phone':4,'Adjusting climate control':4,\n",
    "                                                                                'Child in rear seat':4,'Reading':4,'Biting nails/cuticles':4,'Drinking with lid, no straw':4,'Pet in vehicle':4,\n",
    "                                                                                'Combing/brushing/fixing hair':4,'Dancing':4,'Brushing/flossing teeth':4,'Drinking with straw, no lid':4,\n",
    "                                                                                'Looking at pedestrian':4,'Drinking with lid and straw':4,'Removing/inserting contact lenses':4,'Operating PDA':4,\n",
    "                                                                                'Lighting cigar/cigarette':4,'Reaching for cigar/cigarette':4,'Looking at previous crash or incident':4,'Eating with utensils':4,\n",
    "                                                                                'Applying make-up':4,'Removing/adjusting jewelry':4,'No analyzed data':4}).reset_index(drop=True)\n",
    "output_df['distraction3'] = video_raw_df_f['distraction3'].map({'Not Distracted':0,'Inattention to the Forward Roadway - Center mirror':5,\n",
    "                                                                                'Passenger in adjacent seat':1,'Inattention to the Forward Roadway - Left window':5,\n",
    "                                                                                'Inattention to the Forward Roadway - Right window':5,'Inattention to the Forward Roadway - Left mirror':5,\n",
    "                                                                                'Other external distraction':4,'Talking/singing':2,'Adjusting radio':3,'Smoking cigar/cigarette':4,\n",
    "                                                                                'Animal/Object in Vehicle-- Other':4,'Adjusting other devices integral to vehicle':4,\n",
    "                                                                                'Inattention to the Forward Roadway - Right mirror':5,'Talking/listening on cell phone':2,\n",
    "                                                                                'Reaching for object (not cell phone)':4,'Eating without utensils':4,'Fatigue':6,'Passenger in rear seat':4,\n",
    "                                                                                'Dancing':4,'Cell phone - Other':4,'Child in rear seat':4,'Combing/brushing/fixing hair':4,\n",
    "                                                                                'Dialing hand-held cell phone':4,'Pet in vehicle':4,'Other personal hygiene':4,'Adjusting climate control':4,\n",
    "                                                                                'Cognitive - Other':4,'Drinking with straw, no lid':4,'Applying make-up':4,'Drinking with lid, no straw':4,\n",
    "                                                                                'Locating/reaching/answering cell phone':4,'Biting nails/cuticles':4,'Looking at pedestrian':4}).reset_index(drop=True)\n",
    "# output_df['distraction4'] = video_raw_df_f['distraction4'].map({}).reset_index(drop=True)\n",
    "# print(output_df['distraction2'].value_counts())\n",
    "\n",
    "\n",
    "\n",
    "############\n",
    "\n",
    "# output_df['event'] = pd.Series(['0']*output_df.shape[0])\n",
    "\n",
    "\n",
    "\n",
    "\n",
    "\n",
    "\n",
    "\n"
   ]
  },
  {
   "cell_type": "code",
   "execution_count": null,
   "metadata": {
    "collapsed": false,
    "scrolled": false
   },
   "outputs": [],
   "source": [
    "output_df"
   ]
  },
  {
   "cell_type": "code",
   "execution_count": null,
   "metadata": {
    "collapsed": false
   },
   "outputs": [],
   "source": [
    "output_df.to_json('baseline_data.json')"
   ]
  },
  {
   "cell_type": "code",
   "execution_count": null,
   "metadata": {
    "collapsed": true
   },
   "outputs": [],
   "source": [
    "print(video_raw_df_f['distraction4'].value_counts())\n"
   ]
  },
  {
   "cell_type": "code",
   "execution_count": null,
   "metadata": {
    "collapsed": true
   },
   "outputs": [],
   "source": []
  }
 ],
 "metadata": {
  "kernelspec": {
   "display_name": "Python 2",
   "language": "python",
   "name": "python2"
  },
  "language_info": {
   "codemirror_mode": {
    "name": "ipython",
    "version": 2
   },
   "file_extension": ".py",
   "mimetype": "text/x-python",
   "name": "python",
   "nbconvert_exporter": "python",
   "pygments_lexer": "ipython2",
   "version": "2.7.13"
  }
 },
 "nbformat": 4,
 "nbformat_minor": 2
}
