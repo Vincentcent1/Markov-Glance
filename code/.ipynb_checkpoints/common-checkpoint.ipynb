{
 "cells": [
  {
   "cell_type": "code",
   "execution_count": 1,
   "metadata": {},
   "outputs": [],
   "source": [
    "import pandas as pd\n",
    "import numpy as np"
   ]
  },
  {
   "cell_type": "code",
   "execution_count": null,
   "metadata": {},
   "outputs": [],
   "source": [
    "def fileToDataFrame(text_file):\n",
    "    txt_file = pd.read_csv(text_file,sep='/n',header=None)\n",
    "    txt_df = txt_file[0].str.split('\\t',expand=True)\n",
    "    return txt_df"
   ]
  }
 ],
 "metadata": {
  "kernelspec": {
   "display_name": "markov",
   "language": "python",
   "name": "markov"
  },
  "language_info": {
   "codemirror_mode": {
    "name": "ipython",
    "version": 2
   },
   "file_extension": ".py",
   "mimetype": "text/x-python",
   "name": "python",
   "nbconvert_exporter": "python",
   "pygments_lexer": "ipython2",
   "version": "2.7.12"
  }
 },
 "nbformat": 4,
 "nbformat_minor": 2
}
