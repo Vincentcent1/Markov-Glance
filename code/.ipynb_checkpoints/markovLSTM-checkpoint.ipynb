{
 "cells": [
  {
   "cell_type": "code",
   "execution_count": 1,
   "metadata": {
    "collapsed": false
   },
   "outputs": [
    {
     "name": "stderr",
     "output_type": "stream",
     "text": [
      "/home/vincent/virtualenvironment/markov/local/lib/python2.7/site-packages/h5py/__init__.py:36: FutureWarning: Conversion of the second argument of issubdtype from `float` to `np.floating` is deprecated. In future, it will be treated as `np.float64 == np.dtype(float).type`.\n",
      "  from ._conv import register_converters as _register_converters\n",
      "Using TensorFlow backend.\n"
     ]
    }
   ],
   "source": [
    "from keras.models import Sequential\n",
    "from keras.layers import Dense, Activation, LSTM\n",
    "import keras\n",
    "import numpy as np\n",
    "import ast\n",
    "# from imblearn.over_sampling import SMOTE\n",
    "import matplotlib.pyplot as plt\n",
    "from sklearn.metrics import confusion_matrix\n",
    "from sklearn.utils import class_weight\n",
    "import pandas as pd\n",
    "import seaborn as sn\n",
    "import random"
   ]
  },
  {
   "cell_type": "code",
   "execution_count": 2,
   "metadata": {
    "collapsed": true
   },
   "outputs": [],
   "source": [
    "batch_size = 8\n",
    "time_steps = 61\n",
    "data_dim = 1\n",
    "test_split = 0.1\n",
    "validation_split = 0.1\n",
    "num_epoch = 30"
   ]
  },
  {
   "cell_type": "code",
   "execution_count": 3,
   "metadata": {
    "collapsed": true
   },
   "outputs": [],
   "source": [
    "with open('baseline_data.json') as f:\n",
    "    data = f.read()\n",
    "    data_dict_ = ast.literal_eval(data)"
   ]
  },
  {
   "cell_type": "code",
   "execution_count": 4,
   "metadata": {
    "collapsed": false
   },
   "outputs": [
    {
     "name": "stdout",
     "output_type": "stream",
     "text": [
      "289\n",
      "506\n",
      "909\n",
      "1203\n",
      "1510\n",
      "1788\n",
      "2242\n",
      "2505\n",
      "2603\n",
      "3426\n",
      "3595\n",
      "3674\n",
      "3799\n",
      "3853\n",
      "4671\n"
     ]
    }
   ],
   "source": [
    "for i in range(4950):\n",
    "    if len(data_dict_['glance_sequence'][str(i)]) != 61:\n",
    "        print(i)\n",
    "        for key in data_dict_.keys():\n",
    "            data_dict_[key].pop(str(i))"
   ]
  },
  {
   "cell_type": "code",
   "execution_count": 5,
   "metadata": {
    "collapsed": true
   },
   "outputs": [],
   "source": [
    "data_dict = {}\n",
    "data_dict_test = {}\n",
    "for key in data_dict_.keys():\n",
    "    data_dict[key] = np.array([],dtype=np.int32)\n",
    "    data_dict_test[key] = np.array([],dtype=np.int32)\n",
    "\n",
    "count = -1\n",
    "    \n",
    "for i in sorted(map(int,data_dict_['id'].keys())):\n",
    "    count += 1\n",
    "    for key in data_dict_.keys():\n",
    "        if count < (test_split*4935):\n",
    "            data_dict_test[key] = np.append(data_dict_test[key],data_dict_[key][str(i)])\n",
    "        else:\n",
    "            data_dict[key] = np.append(data_dict[key],data_dict_[key][str(i)])\n",
    "data_dict['glance_sequence'] = data_dict['glance_sequence'].reshape(-1,61,1)\n",
    "data_dict_test['glance_sequence'] = data_dict_test['glance_sequence'].reshape(-1,61,1) "
   ]
  },
  {
   "cell_type": "code",
   "execution_count": 6,
   "metadata": {
    "collapsed": true
   },
   "outputs": [],
   "source": [
    "x_train = data_dict['glance_sequence']\n",
    "y_train = data_dict['proximity_to_an_intersection']\n",
    "x_test = data_dict_test['glance_sequence']\n",
    "y_test = data_dict_test['proximity_to_an_intersection']"
   ]
  },
  {
   "cell_type": "code",
   "execution_count": 7,
   "metadata": {
    "collapsed": true
   },
   "outputs": [],
   "source": [
    "x_train_1 = np.array([])\n",
    "y_train_1 = np.array([])\n",
    "count = 0\n",
    "# slice_at = int(0.9*len(y_train))\n",
    "# create array filled with data labelled 1 \n",
    "for y in y_train:\n",
    "    if y == 1:\n",
    "        x_train_1 = np.append(x_train_1,x_train[count])\n",
    "        y_train_1 = np.append(y_train_1,y_train[count])\n",
    "    count += 1\n",
    "x_train_1 = x_train_1.reshape(-1,61,1)"
   ]
  },
  {
   "cell_type": "code",
   "execution_count": 8,
   "metadata": {
    "collapsed": true
   },
   "outputs": [],
   "source": [
    "# Oversample label 1\n",
    "for i in range(len(y_train)- 2 * len(y_train_1)):\n",
    "    num = random.randint(0,745)\n",
    "    x_train = np.append(x_train,x_train_1[num])\n",
    "    y_train = np.append(y_train,y_train_1[num])\n",
    "x_train = x_train.reshape(-1,61,1)"
   ]
  },
  {
   "cell_type": "code",
   "execution_count": 9,
   "metadata": {
    "collapsed": true
   },
   "outputs": [],
   "source": [
    "# shuffle training set\n",
    "list = np.arange(len(x_train))\n",
    "np.random.shuffle(list)\n",
    "x_train_shuffled = []\n",
    "y_train_shuffled = []\n",
    "for i in list:\n",
    "    x_train_shuffled = np.append(x_train_shuffled,x_train[i])\n",
    "    y_train_shuffled = np.append(y_train_shuffled,y_train[i])    \n",
    "x_train_shuffled = x_train_shuffled.reshape(-1,61,1)"
   ]
  },
  {
   "cell_type": "code",
   "execution_count": 10,
   "metadata": {
    "collapsed": false
   },
   "outputs": [
    {
     "data": {
      "text/plain": [
       "array([[[6.],\n",
       "        [6.],\n",
       "        [6.],\n",
       "        ...,\n",
       "        [6.],\n",
       "        [6.],\n",
       "        [6.]],\n",
       "\n",
       "       [[6.],\n",
       "        [6.],\n",
       "        [6.],\n",
       "        ...,\n",
       "        [6.],\n",
       "        [6.],\n",
       "        [6.]],\n",
       "\n",
       "       [[6.],\n",
       "        [6.],\n",
       "        [6.],\n",
       "        ...,\n",
       "        [6.],\n",
       "        [6.],\n",
       "        [6.]],\n",
       "\n",
       "       ...,\n",
       "\n",
       "       [[4.],\n",
       "        [4.],\n",
       "        [4.],\n",
       "        ...,\n",
       "        [6.],\n",
       "        [6.],\n",
       "        [6.]],\n",
       "\n",
       "       [[6.],\n",
       "        [6.],\n",
       "        [6.],\n",
       "        ...,\n",
       "        [6.],\n",
       "        [6.],\n",
       "        [6.]],\n",
       "\n",
       "       [[6.],\n",
       "        [6.],\n",
       "        [6.],\n",
       "        ...,\n",
       "        [6.],\n",
       "        [6.],\n",
       "        [6.]]])"
      ]
     },
     "execution_count": 10,
     "metadata": {},
     "output_type": "execute_result"
    }
   ],
   "source": [
    "x_train_shuffled"
   ]
  },
  {
   "cell_type": "code",
   "execution_count": 11,
   "metadata": {
    "collapsed": false
   },
   "outputs": [
    {
     "data": {
      "text/plain": [
       "72"
      ]
     },
     "execution_count": 11,
     "metadata": {},
     "output_type": "execute_result"
    }
   ],
   "source": [
    "count = 0\n",
    "for i in y_test:\n",
    "    if i == 1:\n",
    "        count += 1\n",
    "count"
   ]
  },
  {
   "cell_type": "code",
   "execution_count": 12,
   "metadata": {
    "collapsed": true
   },
   "outputs": [],
   "source": [
    "# sm = SMOTE(ratio = 'minority', random_state=42)"
   ]
  },
  {
   "cell_type": "code",
   "execution_count": 13,
   "metadata": {
    "collapsed": true
   },
   "outputs": [],
   "source": [
    "#Sanity Check\n",
    "# assert x_train[-1][16] == data_dict_['glance_sequence']['4949'][16]"
   ]
  },
  {
   "cell_type": "code",
   "execution_count": 14,
   "metadata": {
    "collapsed": true
   },
   "outputs": [],
   "source": [
    "adam = keras.optimizers.Adam(lr=0.001, beta_1=0.9, beta_2=0.999, epsilon=None, decay=0.001, amsgrad=False)"
   ]
  },
  {
   "cell_type": "code",
   "execution_count": 15,
   "metadata": {
    "collapsed": true
   },
   "outputs": [],
   "source": [
    "model = Sequential()\n",
    "model.add(LSTM(128, dropout=0.0, recurrent_dropout=0.0, input_shape=(time_steps,data_dim), ))\n",
    "model.add(Dense(1, activation='sigmoid'))\n",
    "model.compile(loss='binary_crossentropy',\n",
    "             optimizer=adam,\n",
    "             metrics=['binary_accuracy'])"
   ]
  },
  {
   "cell_type": "code",
   "execution_count": null,
   "metadata": {
    "collapsed": false
   },
   "outputs": [
    {
     "name": "stdout",
     "output_type": "stream",
     "text": [
      "Train...\n",
      "WARNING:tensorflow:Variable *= will be deprecated. Use variable.assign_mul if you want assignment to the variable value or 'x = x * y' if you want a new python Tensor object.\n",
      "Train on 6651 samples, validate on 739 samples\n",
      "Epoch 1/30\n",
      " - 38s - loss: 0.6896 - binary_accuracy: 0.5327 - val_loss: 0.6899 - val_binary_accuracy: 0.5507\n",
      "Epoch 2/30\n",
      " - 35s - loss: 0.6856 - binary_accuracy: 0.5480 - val_loss: 0.6813 - val_binary_accuracy: 0.5670\n",
      "Epoch 3/30\n"
     ]
    }
   ],
   "source": [
    "print('Train...')\n",
    "cw = class_weight.compute_class_weight('balanced', np.unique(y_train),y_train)\n",
    "cw_dict = dict(enumerate(cw))\n",
    "early_stopping = keras.callbacks.EarlyStopping(monitor='val_binary_accuracy', min_delta=0, patience=3, verbose=0, mode='auto')\n",
    "\n",
    "model.fit(x_train_shuffled, y_train_shuffled,\n",
    "         batch_size=batch_size,\n",
    "         epochs=num_epoch,\n",
    "         validation_split=validation_split,\n",
    "         class_weight=cw_dict,\n",
    "         callbacks = [early_stopping],\n",
    "         verbose=2)\n",
    "score, acc = model.evaluate(x_test, y_test,\n",
    "                          batch_size=batch_size)\n",
    "print('Test score:', score)\n",
    "print('Test accuracy:', acc)"
   ]
  },
  {
   "cell_type": "code",
   "execution_count": null,
   "metadata": {
    "collapsed": true
   },
   "outputs": [],
   "source": [
    "predictions_ = model.predict(x_test,batch_size=batch_size)\n",
    "predictions = []\n",
    "for pred in predictions_:\n",
    "    if pred < 0.5:\n",
    "        predictions.append(0)\n",
    "    else:\n",
    "        predictions.append(1)"
   ]
  },
  {
   "cell_type": "code",
   "execution_count": null,
   "metadata": {
    "collapsed": true
   },
   "outputs": [],
   "source": [
    "cm = confusion_matrix(y_test,predictions)\n",
    "axis_index = ['Non-junction','Junction']\n",
    "axis_predicted = ['Predicted ' + a_i for a_i in axis_index]\n",
    "df_cm = pd.DataFrame(cm, index = axis_index, columns = axis_predicted)\n",
    "plt.figure(figsize = (10,7))\n",
    "sn.heatmap(df_cm,annot=True,cmap='Blues', fmt='g')\n",
    "print(\"accuracy:\" ,(cm[0][0] + cm[1][1])/float(len(y_test)))"
   ]
  },
  {
   "cell_type": "code",
   "execution_count": null,
   "metadata": {
    "collapsed": true
   },
   "outputs": [],
   "source": [
    "score, acc = model.evaluate(x_test, y_test,\n",
    "                          batch_size=batch_size)\n",
    "print('Test score:', score)\n",
    "print('Test accuracy:', acc)"
   ]
  },
  {
   "cell_type": "code",
   "execution_count": null,
   "metadata": {
    "collapsed": true,
    "scrolled": true
   },
   "outputs": [],
   "source": [
    "cw_dict"
   ]
  },
  {
   "cell_type": "code",
   "execution_count": null,
   "metadata": {
    "collapsed": true
   },
   "outputs": [],
   "source": []
  }
 ],
 "metadata": {
  "kernelspec": {
   "display_name": "Python 2",
   "language": "python",
   "name": "python2"
  },
  "language_info": {
   "codemirror_mode": {
    "name": "ipython",
    "version": 2
   },
   "file_extension": ".py",
   "mimetype": "text/x-python",
   "name": "python",
   "nbconvert_exporter": "python",
   "pygments_lexer": "ipython2",
   "version": "2.7.13"
  }
 },
 "nbformat": 4,
 "nbformat_minor": 2
}
