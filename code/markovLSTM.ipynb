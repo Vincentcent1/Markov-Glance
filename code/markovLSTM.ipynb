{
 "cells": [
  {
   "cell_type": "code",
   "execution_count": 1,
   "metadata": {},
   "outputs": [
    {
     "name": "stderr",
     "output_type": "stream",
     "text": [
      "/home/vincent/virtualenvironment/markov/local/lib/python2.7/site-packages/h5py/__init__.py:36: FutureWarning: Conversion of the second argument of issubdtype from `float` to `np.floating` is deprecated. In future, it will be treated as `np.float64 == np.dtype(float).type`.\n",
      "  from ._conv import register_converters as _register_converters\n",
      "Using TensorFlow backend.\n"
     ]
    }
   ],
   "source": [
    "from keras.models import Sequential\n",
    "from keras.layers import Dense, Activation, LSTM\n",
    "import keras\n",
    "import numpy as np\n",
    "import ast\n",
    "# from imblearn.over_sampling import SMOTE\n",
    "import matplotlib.pyplot as plt\n",
    "from sklearn.metrics import confusion_matrix\n",
    "from sklearn.utils import class_weight\n",
    "import pandas as pd\n",
    "import seaborn as sn\n",
    "import random\n",
    "random.seed(1234)"
   ]
  },
  {
   "cell_type": "code",
   "execution_count": 2,
   "metadata": {},
   "outputs": [],
   "source": [
    "# Hyperparameters\n",
    "batch_size = 8\n",
    "time_steps = 61\n",
    "data_dim = 1\n",
    "test_split = 0.1\n",
    "validation_split = 0.1\n",
    "num_epoch = 30"
   ]
  },
  {
   "cell_type": "code",
   "execution_count": 3,
   "metadata": {},
   "outputs": [],
   "source": [
    "# Convert json data to dictionary\n",
    "with open('baseline_data.json') as f:\n",
    "    data = f.read()\n",
    "    data_dict_ = ast.literal_eval(data)"
   ]
  },
  {
   "cell_type": "code",
   "execution_count": 4,
   "metadata": {},
   "outputs": [
    {
     "name": "stdout",
     "output_type": "stream",
     "text": [
      "289\n",
      "506\n",
      "909\n",
      "1203\n",
      "1510\n",
      "1788\n",
      "2242\n",
      "2505\n",
      "2603\n",
      "3426\n",
      "3595\n",
      "3674\n",
      "3799\n",
      "3853\n",
      "4671\n"
     ]
    }
   ],
   "source": [
    "# Remove data with less than 61 states\n",
    "for i in range(4950):\n",
    "    if len(data_dict_['glance_sequence'][str(i)]) != 61:\n",
    "        print(i)\n",
    "        for key in data_dict_.keys():\n",
    "            data_dict_[key].pop(str(i))"
   ]
  },
  {
   "cell_type": "code",
   "execution_count": 5,
   "metadata": {},
   "outputs": [],
   "source": [
    "data_dict_train = {}\n",
    "data_dict_test = {}\n",
    "for key in data_dict_.keys():\n",
    "#     data_dict_train[key] = np.array([],dtype=np.int32)\n",
    "#     data_dict_test[key] = np.array([],dtype=np.int32)\n",
    "    data_dict_train[key] = []\n",
    "    data_dict_test[key] = []\n",
    "\n",
    "count = -1\n",
    "\n",
    "# Convert dictionary with index as key into an array\n",
    "for i in sorted(map(int,data_dict_['id'].keys())): \n",
    "    count += 1\n",
    "    # Traverse through all data columns/keys\n",
    "    for key in data_dict_.keys():\n",
    "        # Split data according to train-test split, small index used as test data\n",
    "        # Get the data from the inner dict with the str index as key and append it in order\n",
    "        if count < (test_split*4935):\n",
    "#             data_dict_test[key] = np.append(data_dict_test[key],data_dict_[key][str(i)])\n",
    "            data_dict_test[key].append(data_dict_[key][str(i)])\n",
    "        else:\n",
    "#             data_dict_train[key] = np.append(data_dict_train[key],data_dict_[key][str(i)])\n",
    "            data_dict_train[key].append(data_dict_[key][str(i)])\n",
    "\n",
    "# Reshape glance sequences back to the appropriate shape\n",
    "# data_dict_train['glance_sequence'] = data_dict_train['glance_sequence'].reshape(-1,61,1)\n",
    "# data_dict_test['glance_sequence'] = data_dict_test['glance_sequence'].reshape(-1,61,1)"
   ]
  },
  {
   "cell_type": "code",
   "execution_count": 6,
   "metadata": {},
   "outputs": [],
   "source": [
    "x_train = data_dict_train['glance_sequence']\n",
    "y_train = data_dict_train['proximity_to_an_intersection']\n",
    "x_test = data_dict_test['glance_sequence']\n",
    "y_test = data_dict_test['proximity_to_an_intersection']"
   ]
  },
  {
   "cell_type": "code",
   "execution_count": 8,
   "metadata": {},
   "outputs": [],
   "source": [
    "def balanceDataset(x_data, y_data, num_of_class):\n",
    "    '''\n",
    "    @args:\n",
    "        x_data: glance sequence\n",
    "        y_data: label with values from 0 to n\n",
    "        num_of_class: num of types of label\n",
    "    Balance the dataset by oversampling classes with smaller dataset\n",
    "    In the resulting dataset, each class has size equal to the class with the largest dataset\n",
    "    '''\n",
    "    # Array with one inner array for each class\n",
    "    x_train = [[] for i in range(num_of_class)]\n",
    "    y_train = [[] for i in range(num_of_class)]\n",
    "    \n",
    "    # Allocate data according to class\n",
    "    for i,y in enumerate(y_data):\n",
    "        x_train[y].append(x_data[i])\n",
    "        y_train[y].append(y_data[i])\n",
    "        \n",
    "    # Get largest class size\n",
    "    size = max(map(len,y_train))\n",
    "\n",
    "    # slice_at = int(0.9*len(y_train))\n",
    "    \n",
    "    # Oversample smaller classes randomly\n",
    "    for x,y in zip(x_train,y_train):\n",
    "        for i in range(size - len(y)):\n",
    "            num = random.randint(0,len(y)-1)\n",
    "            x_data.append(x[num])\n",
    "            y_data.append(y[num])\n",
    "    \n",
    "    # Shuffle data before returning to spread the dataset\n",
    "    shuffles = zip(x_data,y_data)\n",
    "    random.shuffle(shuffles)\n",
    "    x_data,y_data = zip(*shuffles)\n",
    "\n",
    "    return x_data,y_data"
   ]
  },
  {
   "cell_type": "code",
   "execution_count": 9,
   "metadata": {},
   "outputs": [],
   "source": [
    "x_train,y_train = balanceDataset(x_train,y_train,2)\n",
    "# x_test,y_test = balanceDataset(x_test,y_test,2)"
   ]
  },
  {
   "cell_type": "code",
   "execution_count": 19,
   "metadata": {},
   "outputs": [],
   "source": [
    "x_train_np =  np.array(x_train).reshape(-1,61,1)\n",
    "y_train_np =  np.array(y_train)\n",
    "x_test_np =  np.array(x_test).reshape(-1,61,1)\n",
    "y_test_np =  np.array(y_test)"
   ]
  },
  {
   "cell_type": "code",
   "execution_count": 24,
   "metadata": {},
   "outputs": [],
   "source": [
    "def train(x_train_np, y_train_np, x_test_np, y_test_np, loss, metrics, balance_weight):\n",
    "    '''\n",
    "    @args:\n",
    "        x_train_np: train glance sequence (numpy array)\n",
    "        y_train_np: train label (numpy array)\n",
    "        x_test_np: test glance sequence (numpy array)\n",
    "        y_test_np: test label (numpy array)\n",
    "        loss: loss function\n",
    "        metrics: metrics for accuracy\n",
    "        class_weight: Should class_weight balancing be done\n",
    "    '''\n",
    "    adam = keras.optimizers.Adam(lr=0.001, beta_1=0.9, beta_2=0.999, epsilon=None, decay=0.001, amsgrad=False)\n",
    "\n",
    "    model = Sequential()\n",
    "    model.add(LSTM(128, dropout=0.0, recurrent_dropout=0.0, input_shape=(time_steps,data_dim), ))\n",
    "    model.add(Dense(1, activation='sigmoid'))\n",
    "    model.compile(loss='binary_crossentropy',\n",
    "                 optimizer=adam,\n",
    "                 metrics=['binary_accuracy'])\n",
    "\n",
    "    print('Train...')\n",
    "    if balance_weight:\n",
    "        cw = class_weight.compute_class_weight('balanced', np.unique(y_train_np),y_train_np)\n",
    "        cw_dict = dict(enumerate(cw))\n",
    "    else:\n",
    "        cw_dict = None\n",
    "    early_stopping = keras.callbacks.EarlyStopping(monitor='val_binary_accuracy', min_delta=0, patience=3, verbose=0, mode='auto')\n",
    "\n",
    "    model.fit(x_train_np, y_train_np,\n",
    "             batch_size=batch_size,\n",
    "             epochs=num_epoch,\n",
    "             validation_split=validation_split,\n",
    "             class_weight=cw_dict,\n",
    "             callbacks = [early_stopping],\n",
    "             verbose=2)"
   ]
  },
  {
   "cell_type": "code",
   "execution_count": null,
   "metadata": {},
   "outputs": [
    {
     "name": "stdout",
     "output_type": "stream",
     "text": [
      "Train...\n",
      "Train on 6651 samples, validate on 739 samples\n",
      "Epoch 1/30\n",
      " - 37s - loss: 0.6909 - binary_accuracy: 0.5294 - val_loss: 0.6875 - val_binary_accuracy: 0.5359\n",
      "Epoch 2/30\n",
      " - 36s - loss: 0.6830 - binary_accuracy: 0.5553 - val_loss: 0.6815 - val_binary_accuracy: 0.5115\n",
      "Epoch 3/30\n",
      " - 37s - loss: 0.6753 - binary_accuracy: 0.5701 - val_loss: 0.6666 - val_binary_accuracy: 0.5954\n",
      "Epoch 4/30\n"
     ]
    }
   ],
   "source": [
    "train(x_train_np, y_train_np, x_test_np, y_test_np, loss='binary_crossentropy', metrics='binary_accuracy', balance_weight=False)"
   ]
  },
  {
   "cell_type": "code",
   "execution_count": null,
   "metadata": {},
   "outputs": [],
   "source": [
    "predictions_ = model.predict(x_test,batch_size=batch_size)\n",
    "predictions = []\n",
    "for pred in predictions_:\n",
    "    if pred < 0.5:\n",
    "        predictions.append(0)\n",
    "    else:\n",
    "        predictions.append(1)\n",
    "\n",
    "cm = confusion_matrix(y_test,predictions)\n",
    "axis_index = ['Non-junction','Junction']\n",
    "axis_predicted = ['Predicted ' + a_i for a_i in axis_index]\n",
    "df_cm = pd.DataFrame(cm, index = axis_index, columns = axis_predicted)\n",
    "plt.figure(figsize = (10,7))\n",
    "sn.heatmap(df_cm,annot=True,cmap='Blues', fmt='g')\n",
    "print(\"accuracy:\" ,(cm[0][0] + cm[1][1])/float(len(y_test)))\n",
    "\n",
    "score, acc = model.evaluate(x_test_np, y_test_np,\n",
    "                          batch_size=batch_size)\n",
    "print('Test score:', score)\n",
    "print('Test accuracy:', acc)"
   ]
  },
  {
   "cell_type": "code",
   "execution_count": null,
   "metadata": {
    "scrolled": true
   },
   "outputs": [],
   "source": [
    "cw_dict"
   ]
  }
 ],
 "metadata": {
  "kernelspec": {
   "display_name": "markov",
   "language": "python",
   "name": "markov"
  },
  "language_info": {
   "codemirror_mode": {
    "name": "ipython",
    "version": 2
   },
   "file_extension": ".py",
   "mimetype": "text/x-python",
   "name": "python",
   "nbconvert_exporter": "python",
   "pygments_lexer": "ipython2",
   "version": "2.7.12"
  }
 },
 "nbformat": 4,
 "nbformat_minor": 2
}
