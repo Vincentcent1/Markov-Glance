{
 "cells": [
  {
   "cell_type": "code",
   "execution_count": 1,
   "metadata": {},
   "outputs": [],
   "source": [
    "'''\n",
    "TODO:\n",
    "1. CLEAN locality data (remove others) - Done\n",
    "2. CLEAN lighting (remove Dusk/Dawn?) - Done\n",
    "3. CLEAN surfaceCondition(remove others) - Done\n",
    "4. CLEAN weather (remove Others and cloudy) - Done\n",
    "5. CLEAN seatBelt(remove Unknown) - done\n",
    "6. CLEAN age (remove unknown) - done\n",
    "7. CLEAN gender (remove unknown) - done\n",
    "8. What to do with Behavior\n",
    "9. What to do with Distraction\n",
    "'''"
   ]
  },
  {
   "cell_type": "code",
   "execution_count": 2,
   "metadata": {},
   "outputs": [
    {
     "name": "stderr",
     "output_type": "stream",
     "text": [
      "/home/vincent/virtualenvironment/markov/local/lib/python2.7/site-packages/h5py/__init__.py:36: FutureWarning: Conversion of the second argument of issubdtype from `float` to `np.floating` is deprecated. In future, it will be treated as `np.float64 == np.dtype(float).type`.\n",
      "  from ._conv import register_converters as _register_converters\n",
      "Using TensorFlow backend.\n"
     ]
    }
   ],
   "source": [
    "from keras.models import Sequential\n",
    "from keras.layers import Dense, Activation, LSTM\n",
    "import keras\n",
    "import numpy as np\n",
    "import ast\n",
    "# from imblearn.over_sampling import SMOTE\n",
    "import matplotlib.pyplot as plt\n",
    "from sklearn.metrics import confusion_matrix\n",
    "from sklearn.utils import class_weight\n",
    "import pandas as pd\n",
    "import seaborn as sn\n",
    "import random\n",
    "random.seed(1234)"
   ]
  },
  {
   "cell_type": "code",
   "execution_count": 3,
   "metadata": {},
   "outputs": [],
   "source": [
    "# Hyperparameters\n",
    "batch_size = 8\n",
    "time_steps = 61\n",
    "data_dim = 1\n",
    "test_split = 0.1\n",
    "validation_split = 0.1\n",
    "num_epoch = 30"
   ]
  },
  {
   "cell_type": "code",
   "execution_count": 4,
   "metadata": {},
   "outputs": [],
   "source": [
    "# Convert json data to dictionary\n",
    "with open('baseline_data.json') as f:\n",
    "    data = f.read()\n",
    "    data_dict_ = ast.literal_eval(data)"
   ]
  },
  {
   "cell_type": "code",
   "execution_count": 5,
   "metadata": {},
   "outputs": [
    {
     "name": "stdout",
     "output_type": "stream",
     "text": [
      "289\n",
      "506\n",
      "909\n",
      "1203\n",
      "1510\n",
      "1788\n",
      "2242\n",
      "2505\n",
      "2603\n",
      "3426\n",
      "3595\n",
      "3674\n",
      "3799\n",
      "3853\n",
      "4671\n"
     ]
    }
   ],
   "source": [
    "# Remove data with less than 61 states\n",
    "for i in range(4950):\n",
    "    if len(data_dict_['glance_sequence'][str(i)]) != 61:\n",
    "        print(i)\n",
    "        for key in data_dict_.keys():\n",
    "            data_dict_[key].pop(str(i))"
   ]
  },
  {
   "cell_type": "code",
   "execution_count": 21,
   "metadata": {},
   "outputs": [],
   "source": [
    "data_dict_train = {}\n",
    "data_dict_test = {}\n",
    "data_dict = {}\n",
    "for key in data_dict_.keys():\n",
    "#     data_dict_train[key] = np.array([],dtype=np.int32)\n",
    "#     data_dict_test[key] = np.array([],dtype=np.int32)\n",
    "    data_dict[key] = []\n",
    "    data_dict_train[key] = []\n",
    "    data_dict_test[key] = []\n",
    "\n",
    "count = -1\n",
    "\n",
    "# Convert dictionary with index as key into an array\n",
    "for i in sorted(map(int,data_dict_['id'].keys())): \n",
    "    count += 1\n",
    "    # Traverse through all data columns/keys\n",
    "    for key in data_dict_.keys():\n",
    "        # Get the data from the inner dict with the str index as key and append it in order\n",
    "        data_dict[key].append(data_dict_[key][str(i)])\n",
    "\n",
    "# for key in data_dict.keys():\n",
    "#         # Split data according to train-test split, small index used as test data        \n",
    "#     data_dict_test[key], data_dict_train[key] = cleanData(data_dict,key)\n",
    "    \n",
    "#         if count < (test_split*4935):\n",
    "# #             data_dict_test[key] = np.append(data_dict_test[key],data_dict_[key][str(i)])\n",
    "#             data_dict_test[key].append(data_dict_[key][str(i)])\n",
    "#         else:\n",
    "# #             data_dict_train[key] = np.append(data_dict_train[key],data_dict_[key][str(i)])\n",
    "#             data_dict_train[key].append(data_dict_[key][str(i)])\n",
    "\n",
    "# Reshape glance sequences back to the appropriate shape\n",
    "# data_dict_train['glance_sequence'] = data_dict_train['glance_sequence'].reshape(-1,61,1)\n",
    "# data_dict_test['glance_sequence'] = data_dict_test['glance_sequence'].reshape(-1,61,1)"
   ]
  },
  {
   "cell_type": "code",
   "execution_count": 7,
   "metadata": {},
   "outputs": [],
   "source": [
    "xy_trains = []\n",
    "xy_trains.append((data_dict_train['glance_sequence'],data_dict_train['proximity_to_an_intersection'],'proximity_to_an_interesection',2))\n",
    "xy_trains.append((data_dict_train['glance_sequence'],data_dict_train['lighting'],'lighting',3))\n",
    "xy_trains.append((data_dict_train['glance_sequence'],data_dict_train['trafficControl'],'trafficControl',2))\n",
    "xy_trains.append((data_dict_train['glance_sequence'],data_dict_train['locality'],'locality',4))\n",
    "xy_trains.append((data_dict_train['glance_sequence'],data_dict_train['trafficDensity'],'trafficDensity',3))\n",
    "xy_trains.append((data_dict_train['glance_sequence'],data_dict_train['surfaceCondition'],'surfaceCondition',2))\n",
    "xy_trains.append((data_dict_train['glance_sequence'],data_dict_train['weather'],'weather',2))\n",
    "xy_trains.append((data_dict_train['glance_sequence'],data_dict_train['alignment'],'alignment',2))\n",
    "xy_trains.append((data_dict_train['glance_sequence'],data_dict_train['travelLanes'],'travelLanes',2))\n",
    "xy_trains.append((data_dict_train['glance_sequence'],data_dict_train['trafficDivider'],'trafficDivider',2))\n",
    "xy_trains.append((data_dict_train['glance_sequence'],data_dict_train['seatBelt'],'seatBelt',2))\n",
    "xy_trains.append((data_dict_train['glance_sequence'],data_dict_train['age'],'age',3))\n",
    "xy_trains.append((data_dict_train['glance_sequence'],data_dict_train['gender'],'gender',2))"
   ]
  },
  {
   "cell_type": "code",
   "execution_count": 90,
   "metadata": {},
   "outputs": [
    {
     "name": "stdout",
     "output_type": "stream",
     "text": [
      "4394\n",
      "3955\n",
      "439\n"
     ]
    }
   ],
   "source": [
    "def cleanData(data_dict, name):\n",
    "    '''\n",
    "    return:\n",
    "        [test_x,test_y],[train_x,train_y]\n",
    "    '''\n",
    "    if name == 'proximity_to_an_intersection': # Just split the data accordingly\n",
    "        glances = data_dict['glance_sequence'] \n",
    "        labels = data_dict['proximity_to_an_intersection']\n",
    "        split = int(test_split*len(labels))\n",
    "        return [glances[:split],labels[:split]],[glances[split:],labels[split:]]\n",
    "    elif name == 'lighting':\n",
    "        cleanedData = []\n",
    "        glances = data_dict['glance_sequence']\n",
    "        labels = data_dict['lighting']\n",
    "        to_keep = [i for i,e in enumerate(labels) if e != 3]\n",
    "        for i in to_keep:\n",
    "            cleanedData.append((glances[i],labels[i]))\n",
    "        random.shuffle(cleanedData)\n",
    "        split = int(test_split*len(cleanedData))\n",
    "        return zip(*cleanedData[:split]),zip(*cleanedData[split:])\n",
    "    elif name == 'trafficControl': # Just split the data accordingly\n",
    "        glances = data_dict['glance_sequence'] \n",
    "        labels = data_dict['trafficControl']\n",
    "        split = int(test_split*len(labels))\n",
    "        return [glances[:split],labels[:split]],[glances[split:],labels[split:]]        \n",
    "    elif name == 'locality':\n",
    "        cleanedData = []\n",
    "        glances = data_dict['glance_sequence']\n",
    "        labels = data_dict['locality']\n",
    "        to_keep = [i for i,e in enumerate(labels) if e != 4] # Get index that doesn't need to be removed\n",
    "        for i in to_keep:\n",
    "            cleanedData.append((glances[i],labels[i]))\n",
    "        random.shuffle(cleanedData)\n",
    "        split = int(test_split*len(cleanedData))\n",
    "        return zip(*cleanedData[:split]),zip(*cleanedData[split:]) # Test, Train\n",
    "    elif name == 'trafficDensity': # Just split the data accordingly\n",
    "        glances = data_dict['glance_sequence'] \n",
    "        labels = data_dict['trafficDensity']\n",
    "        split = int(test_split*len(labels))\n",
    "        return [glances[:split],labels[:split]],[glances[split:],labels[split:]]  \n",
    "    elif name == 'surfaceCondition':\n",
    "        cleanedData = []\n",
    "        glances = data_dict['glance_sequence']\n",
    "        labels = data_dict['surfaceCondition']\n",
    "        to_keep = [i for i,e in enumerate(labels) if e != 2] # Get index that doesn't need to be removed\n",
    "        for i in to_keep:\n",
    "            cleanedData.append((glances[i],labels[i]))\n",
    "        random.shuffle(cleanedData)\n",
    "        split = int(test_split*len(cleanedData))\n",
    "        return zip(*cleanedData[:split]),zip(*cleanedData[split:]) # Test, Train\n",
    "    elif name == 'weather':\n",
    "        cleanedData = []\n",
    "        glances = data_dict['glance_sequence']\n",
    "        labels = data_dict['weather']\n",
    "        to_keep = [i for i,e in enumerate(labels) if e != 3 and e != 2] # Get index that doesn't need to be removed\n",
    "        for i in to_keep:\n",
    "            cleanedData.append((glances[i],labels[i]))\n",
    "        random.shuffle(cleanedData)\n",
    "        split = int(test_split*len(cleanedData))\n",
    "        return zip(*cleanedData[:split]),zip(*cleanedData[split:]) # Test, Train\n",
    "    elif name == 'alignment': # Just split the data accordingly\n",
    "        glances = data_dict['glance_sequence'] \n",
    "        labels = data_dict['alignment']\n",
    "        split = int(test_split*len(labels))\n",
    "        return [glances[:split],labels[:split]],[glances[split:],labels[split:]] \n",
    "    elif name == 'travelLanes': # Just split the data accordingly\n",
    "        glances = data_dict['glance_sequence'] \n",
    "        labels = data_dict['travelLanes']\n",
    "        split = int(test_split*len(labels))\n",
    "        return [glances[:split],labels[:split]],[glances[split:],labels[split:]]\n",
    "    elif name == 'trafficDivider': # Just split the data accordingly\n",
    "        glances = data_dict['glance_sequence'] \n",
    "        labels = data_dict['trafficDivider']\n",
    "        split = int(test_split*len(labels))\n",
    "        return [glances[:split],labels[:split]],[glances[split:],labels[split:]]\n",
    "    elif name == 'seatBelt':\n",
    "        cleanedData = []\n",
    "        glances = data_dict['glance_sequence']\n",
    "        labels = data_dict['seatBelt']\n",
    "        to_keep = [i for i,e in enumerate(labels) if e != 2] # Get index that doesn't need to be removed\n",
    "        for i in to_keep:\n",
    "            cleanedData.append((glances[i],labels[i]))\n",
    "        random.shuffle(cleanedData)\n",
    "        split = int(test_split*len(cleanedData))\n",
    "        return zip(*cleanedData[:split]),zip(*cleanedData[split:]) # Test, Train\n",
    "    elif name == 'age':\n",
    "        cleanedData = []\n",
    "        glances = data_dict['glance_sequence']\n",
    "        labels = data_dict['age']\n",
    "        to_keep = [i for i,e in enumerate(labels) if e != 3] # Get index that doesn't need to be removed\n",
    "        for i in to_keep:\n",
    "            cleanedData.append((glances[i],labels[i]))\n",
    "        random.shuffle(cleanedData)\n",
    "        split = int(test_split*len(cleanedData))\n",
    "        return zip(*cleanedData[:split]),zip(*cleanedData[split:]) # Test, Train\n",
    "    elif name == 'gender':\n",
    "        cleanedData = []\n",
    "        glances = data_dict['glance_sequence']\n",
    "        labels = data_dict['gender']\n",
    "        to_keep = [i for i,e in enumerate(labels) if e != 2] # Get index that doesn't need to be removed\n",
    "        for i in to_keep:\n",
    "            cleanedData.append((glances[i],labels[i]))\n",
    "        random.shuffle(cleanedData)\n",
    "        split = int(test_split*len(cleanedData))\n",
    "        return zip(*cleanedData[:split]),zip(*cleanedData[split:]) # Test, Train\n",
    "test,train = cleanData(data_dict,'gender')\n",
    "# Initial data size: 4935\n",
    "print len(test[1]) + len(train[1])\n",
    "print len(train[0])\n",
    "print len(test[0])\n",
    "# xy_trains.append((data_dict_train['glance_sequence'],data_dict_train['travelLanes'],'travelLanes',2))\n",
    "# xy_trains.append((data_dict_train['glance_sequence'],data_dict_train['trafficDivider'],'trafficDivider',2))\n",
    "# xy_trains.append((data_dict_train['glance_sequence'],data_dict_train['seatBelt'],'seatBelt',2))\n",
    "# xy_trains.append((data_dict_train['glance_sequence'],data_dict_train['age'],'age',3))\n",
    "# xy_trains.append((data_dict_train['glance_sequence'],data_dict_train['gender'],'gender',2))"
   ]
  },
  {
   "cell_type": "code",
   "execution_count": 91,
   "metadata": {},
   "outputs": [
    {
     "name": "stdout",
     "output_type": "stream",
     "text": [
      "541\n"
     ]
    }
   ],
   "source": [
    "count = 0\n",
    "for i in data_dict['age']:\n",
    "    if i == 3:\n",
    "        count += 1\n",
    "print count"
   ]
  },
  {
   "cell_type": "code",
   "execution_count": 9,
   "metadata": {},
   "outputs": [],
   "source": [
    "xy_tests = []\n",
    "xy_tests.append((data_dict_test['glance_sequence'],data_dict_test['proximity_to_an_intersection'],'proximity_to_an_interesection',2))\n",
    "xy_tests.append((data_dict_test['glance_sequence'],data_dict_test['lighting'],'lighting',4))\n",
    "xy_tests.append((data_dict_test['glance_sequence'],data_dict_test['trafficControl'],'trafficControl',2))\n",
    "xy_tests.append((data_dict_test['glance_sequence'],data_dict_test['locality'],'locality',4))\n",
    "xy_tests.append((data_dict_test['glance_sequence'],data_dict_test['trafficDensity'],'trafficDensity',3))\n",
    "xy_tests.append((data_dict_test['glance_sequence'],data_dict_test['surfaceCondition'],'surfaceCondition',2))\n",
    "xy_tests.append((data_dict_test['glance_sequence'],data_dict_test['weather'],'weather',2))\n",
    "xy_tests.append((data_dict_test['glance_sequence'],data_dict_test['alignment'],'alignment',2))\n",
    "xy_tests.append((data_dict_test['glance_sequence'],data_dict_test['travelLanes'],'travelLanes',2))\n",
    "xy_tests.append((data_dict_test['glance_sequence'],data_dict_test['trafficDivider'],'trafficDivider',2))\n",
    "xy_tests.append((data_dict_test['glance_sequence'],data_dict_test['seatBelt'],'seatBelt',2))\n",
    "xy_tests.append((data_dict_test['glance_sequence'],data_dict_test['age'],'age',3))\n",
    "xy_tests.append((data_dict_test['glance_sequence'],data_dict_test['gender'],'gender',2))"
   ]
  },
  {
   "cell_type": "code",
   "execution_count": 10,
   "metadata": {},
   "outputs": [],
   "source": [
    "def balanceDataset(x_data, y_data, num_of_class):\n",
    "    '''\n",
    "    @args:\n",
    "        x_data: glance sequence\n",
    "        y_data: label with values from 0 to n\n",
    "        num_of_class: num of types of label\n",
    "    Balance the dataset by oversampling classes with smaller dataset\n",
    "    In the resulting dataset, each class has size equal to the class with the largest dataset\n",
    "    '''\n",
    "    # Array with one inner array for each class\n",
    "    x_train = [[] for i in range(num_of_class)]\n",
    "    y_train = [[] for i in range(num_of_class)]\n",
    "    \n",
    "    # Allocate data according to class\n",
    "    for i,y in enumerate(y_data):\n",
    "        x_train[y].append(x_data[i])\n",
    "        y_train[y].append(y_data[i])\n",
    "        \n",
    "    # Get largest class size\n",
    "    size = max(map(len,y_train))\n",
    "\n",
    "    # slice_at = int(0.9*len(y_train))\n",
    "    \n",
    "    # Oversample smaller classes randomly\n",
    "    for x,y in zip(x_train,y_train):\n",
    "        for i in range(size - len(y)):\n",
    "            num = random.randint(0,len(y)-1)\n",
    "            x_data.append(x[num])\n",
    "            y_data.append(y[num])\n",
    "    \n",
    "    # Shuffle data before returning to spread the dataset\n",
    "    shuffles = zip(x_data,y_data)\n",
    "    random.shuffle(shuffles)\n",
    "    x_data,y_data = zip(*shuffles)\n",
    "\n",
    "    return x_data,y_data"
   ]
  },
  {
   "cell_type": "code",
   "execution_count": 11,
   "metadata": {},
   "outputs": [
    {
     "ename": "NameError",
     "evalue": "name 'x_train' is not defined",
     "output_type": "error",
     "traceback": [
      "\u001b[0;31m---------------------------------------------------------------------------\u001b[0m",
      "\u001b[0;31mNameError\u001b[0m                                 Traceback (most recent call last)",
      "\u001b[0;32m<ipython-input-11-653013e09cc2>\u001b[0m in \u001b[0;36m<module>\u001b[0;34m()\u001b[0m\n\u001b[0;32m----> 1\u001b[0;31m \u001b[0mx_train\u001b[0m\u001b[0;34m,\u001b[0m\u001b[0my_train\u001b[0m \u001b[0;34m=\u001b[0m \u001b[0mbalanceDataset\u001b[0m\u001b[0;34m(\u001b[0m\u001b[0mx_train\u001b[0m\u001b[0;34m,\u001b[0m\u001b[0my_train\u001b[0m\u001b[0;34m,\u001b[0m\u001b[0;36m2\u001b[0m\u001b[0;34m)\u001b[0m\u001b[0;34m\u001b[0m\u001b[0m\n\u001b[0m\u001b[1;32m      2\u001b[0m \u001b[0;31m# x_test,y_test = balanceDataset(x_test,y_test,2)\u001b[0m\u001b[0;34m\u001b[0m\u001b[0;34m\u001b[0m\u001b[0m\n",
      "\u001b[0;31mNameError\u001b[0m: name 'x_train' is not defined"
     ]
    }
   ],
   "source": [
    "x_train,y_train = balanceDataset(x_train,y_train,2)\n",
    "# Don't need to balance test set"
   ]
  },
  {
   "cell_type": "code",
   "execution_count": null,
   "metadata": {},
   "outputs": [],
   "source": [
    "x_train_np =  np.array(x_train).reshape(-1,61,1)\n",
    "y_train_np =  np.array(y_train)\n",
    "x_test_np =  np.array(x_test).reshape(-1,61,1)\n",
    "y_test_np =  np.array(y_test)"
   ]
  },
  {
   "cell_type": "code",
   "execution_count": 13,
   "metadata": {},
   "outputs": [],
   "source": [
    "def trainAll(xy_trains,xy_tests):\n",
    "    for trains,tests in zip(xy_trains,xy_tests):\n",
    "        x_train, y_train = balanceDataset(trains[0],trains[1])\n",
    "        x_test, y_test = tests[0],tests[1]\n",
    "        x_train, y_train, x_test, y_test = map(np.array,(x_train,y_train,x_test,y_test))\n",
    "        if trains[3] <= 2:\n",
    "            loss='binary_crossentropy'\n",
    "            metrics='binary_accuracy'\n",
    "        else:\n",
    "            loss='categorical_crossentropy'\n",
    "            metrics='categorical_accuracy'\n",
    "        train(x_train, y_train, x_test, y_test, loss, metrics, balance_weight=False, name=trains[2])"
   ]
  },
  {
   "cell_type": "code",
   "execution_count": null,
   "metadata": {},
   "outputs": [],
   "source": [
    "def train(x_train_np, y_train_np, x_test_np, y_test_np, loss, metrics, balance_weight, name):\n",
    "    '''\n",
    "    @args:\n",
    "        x_train_np: train glance sequence (numpy array)\n",
    "        y_train_np: train label (numpy array)\n",
    "        x_test_np: test glance sequence (numpy array)\n",
    "        y_test_np: test label (numpy array)\n",
    "        loss: loss function\n",
    "        metrics: metrics for accuracy\n",
    "        class_weight: Should class_weight balancing be done\n",
    "    '''\n",
    "    adam = keras.optimizers.Adam(lr=0.001, beta_1=0.9, beta_2=0.999, epsilon=None, decay=0.001, amsgrad=False)\n",
    "\n",
    "    model = Sequential()\n",
    "    model.add(LSTM(128, dropout=0.0, recurrent_dropout=0.0, input_shape=(time_steps,data_dim), ))\n",
    "    model.add(Dense(1, activation='sigmoid'))\n",
    "    model.compile(loss='binary_crossentropy',\n",
    "                 optimizer=adam,\n",
    "                 metrics=['binary_accuracy'])\n",
    "\n",
    "    print('Train...')\n",
    "    if balance_weight:\n",
    "        cw = class_weight.compute_class_weight('balanced', np.unique(y_train_np),y_train_np)\n",
    "        cw_dict = dict(enumerate(cw))\n",
    "    else:\n",
    "        cw_dict = None\n",
    "    \n",
    "    early_stopping = keras.callbacks.EarlyStopping(monitor='val_binary_accuracy', min_delta=0, patience=5, mode='max')\n",
    "    reduce_LR_on_plateau = keras.callbacks.ReduceLROnPlateau(monitor='val_binary_accuracy', factor=0.1, patience=3, mode='max')\n",
    "    model_checkpoint = keras.callbacks.ModelCheckpoint(\"checkpoint_{}\".format(name), monitor='val_binary_accuracy', save_best_only=True, mode='max')\n",
    "    \n",
    "    model.fit(x_train_np, y_train_np,\n",
    "             batch_size=batch_size,\n",
    "             epochs=num_epoch,\n",
    "             validation_split=validation_split,\n",
    "             class_weight=cw_dict,\n",
    "             callbacks = [early_stopping,reduce_LR_on_plateau,model_checkpoint],\n",
    "             verbose=2)\n",
    "\n",
    "    predictions_ = model.predict(np.array(x_test_np),batch_size=batch_size)\n",
    "    predictions = []\n",
    "    for pred in predictions_:\n",
    "        if pred < 0.5:\n",
    "            predictions.append(0)\n",
    "        else:\n",
    "            predictions.append(1)\n",
    "\n",
    "    cm = confusion_matrix(y_test,predictions)\n",
    "    axis_index = ['Non-junction','Junction']\n",
    "    axis_predicted = ['Predicted ' + a_i for a_i in axis_index]\n",
    "    df_cm = pd.DataFrame(cm, index = axis_index, columns = axis_predicted)\n",
    "    plt.figure(figsize = (10,7))\n",
    "    sn.heatmap(df_cm,annot=True,cmap='Blues', fmt='g')\n",
    "    print(\"accuracy:\" ,(cm[0][0] + cm[1][1])/float(len(y_test)))\n",
    "\n",
    "    score, acc = model.evaluate(x_test_np, y_test_np,\n",
    "                              batch_size=batch_size)\n",
    "    print('Test score:', score)\n",
    "    print('Test accuracy:', acc)"
   ]
  },
  {
   "cell_type": "code",
   "execution_count": null,
   "metadata": {},
   "outputs": [],
   "source": [
    "train(x_train_np, y_train_np, x_test_np, y_test_np, loss='binary_crossentropy', metrics='binary_accuracy', balance_weight=False)"
   ]
  },
  {
   "cell_type": "code",
   "execution_count": null,
   "metadata": {
    "scrolled": true
   },
   "outputs": [],
   "source": [
    "cw_dict"
   ]
  }
 ],
 "metadata": {
  "kernelspec": {
   "display_name": "markov",
   "language": "python",
   "name": "markov"
  },
  "language_info": {
   "codemirror_mode": {
    "name": "ipython",
    "version": 2
   },
   "file_extension": ".py",
   "mimetype": "text/x-python",
   "name": "python",
   "nbconvert_exporter": "python",
   "pygments_lexer": "ipython2",
   "version": "2.7.12"
  }
 },
 "nbformat": 4,
 "nbformat_minor": 2
}
